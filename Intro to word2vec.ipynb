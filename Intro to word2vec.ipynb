{
 "cells": [
  {
   "cell_type": "code",
   "execution_count": 2,
   "id": "b5949919",
   "metadata": {},
   "outputs": [],
   "source": [
    "import numpy as np\n",
    "import matplotlib.pyplot as plt\n",
    "\n",
    "from sklearn.decomposition import PCA\n",
    "import gensim.downloader as api\n",
    "from gensim.models import KeyedVectors "
   ]
  },
  {
   "cell_type": "code",
   "execution_count": 5,
   "id": "c6b10c85",
   "metadata": {},
   "outputs": [
    {
     "name": "stdout",
     "output_type": "stream",
     "text": [
      "[==================================================] 100.0% 128.1/128.1MB downloaded\n",
      "<class 'gensim.models.keyedvectors.KeyedVectors'>\n"
     ]
    }
   ],
   "source": [
    "model = api.load(\"glove-wiki-gigaword-100\")\n",
    "print(type(model))"
   ]
  },
  {
   "cell_type": "code",
   "execution_count": 6,
   "id": "555eea5c",
   "metadata": {},
   "outputs": [
    {
     "data": {
      "text/plain": [
       "array([-0.66146  ,  0.94335  , -0.72214  ,  0.17403  , -0.42524  ,\n",
       "        0.36303  ,  1.0135   , -0.14802  ,  0.25817  , -0.20326  ,\n",
       "       -0.64338  ,  0.16632  ,  0.61518  ,  1.397    , -0.094506 ,\n",
       "        0.0041843, -0.18976  , -0.55421  , -0.39371  , -0.22501  ,\n",
       "       -0.34643  ,  0.32076  ,  0.34395  , -0.7034   ,  0.23932  ,\n",
       "        0.69951  , -0.16461  , -0.31819  , -0.34034  , -0.44906  ,\n",
       "       -0.069667 ,  0.35348  ,  0.17498  , -0.95057  , -0.2209   ,\n",
       "        1.0647   ,  0.23231  ,  0.32569  ,  0.47662  , -1.1206   ,\n",
       "        0.28168  , -0.75172  , -0.54654  , -0.66337  ,  0.34804  ,\n",
       "       -0.69058  , -0.77092  , -0.40167  , -0.069351 , -0.049238 ,\n",
       "       -0.39351  ,  0.16735  , -0.14512  ,  1.0083   , -1.0608   ,\n",
       "       -0.87314  , -0.29339  ,  0.68278  ,  0.61634  , -0.088844 ,\n",
       "        0.88094  ,  0.099809 , -0.27161  , -0.58026  ,  0.50364  ,\n",
       "       -0.93814  ,  0.67576  , -0.43124  , -0.10517  , -1.2404   ,\n",
       "       -0.74353  ,  0.28637  ,  0.29012  ,  0.89377  ,  0.67406  ,\n",
       "        0.86422  , -0.30693  , -0.14718  ,  0.078353 ,  0.74013  ,\n",
       "        0.32658  , -0.052579 , -1.1665   ,  0.87079  , -0.69402  ,\n",
       "       -0.75977  , -0.37164  , -0.11887  ,  0.18551  ,  0.041883 ,\n",
       "        0.59352  ,  0.30519  , -0.54819  , -0.29424  , -1.4912   ,\n",
       "       -1.6548   ,  0.98982  ,  0.27325  ,  1.009    ,  0.94544  ],\n",
       "      dtype=float32)"
      ]
     },
     "execution_count": 6,
     "metadata": {},
     "output_type": "execute_result"
    }
   ],
   "source": [
    "model['bread']"
   ]
  },
  {
   "cell_type": "code",
   "execution_count": 7,
   "id": "ebdad789",
   "metadata": {},
   "outputs": [
    {
     "data": {
      "text/plain": [
       "array([-0.95967  ,  0.30795  ,  0.90052  ,  1.0364   ,  0.0034906,\n",
       "       -0.80758  , -1.139    ,  0.81109  , -0.67857  ,  0.52609  ,\n",
       "       -0.072252 , -0.75613  ,  0.52847  ,  1.0927   , -0.51895  ,\n",
       "       -0.21335  ,  0.18184  ,  0.40038  , -0.6547   ,  0.34626  ,\n",
       "        0.92248  , -0.25001  ,  1.1779   ,  0.61006  ,  0.029763 ,\n",
       "        0.4378   ,  0.53647  ,  0.68827  ,  0.14582  , -0.27446  ,\n",
       "       -0.50289  ,  1.0366   , -0.29851  , -0.32927  ,  0.24944  ,\n",
       "       -0.33779  ,  0.0083236, -0.21373  , -0.45898  , -0.23441  ,\n",
       "       -1.2958   ,  0.74799  ,  0.78192  , -0.75644  ,  0.84375  ,\n",
       "       -0.51725  ,  1.0952   ,  0.51768  ,  0.27906  , -0.033519 ,\n",
       "       -0.1573   ,  0.7396   ,  0.39775  ,  1.132    , -0.69279  ,\n",
       "       -2.0093   , -1.1731   , -0.14204  ,  1.5658   , -0.097956 ,\n",
       "       -0.071165 , -0.18906  ,  0.037441 ,  0.48037  ,  0.29248  ,\n",
       "        0.9216   ,  0.33285  ,  0.30963  ,  1.1272   ,  0.19965  ,\n",
       "        0.47058  ,  0.019022 , -0.27432  , -0.49782  , -0.29441  ,\n",
       "        0.28578  , -0.54893  , -0.18968  , -1.3139   ,  0.010304 ,\n",
       "        0.58306  , -0.19652  ,  0.099424 , -0.27646  , -0.50329  ,\n",
       "        0.12081  , -1.1012   , -0.23784  , -0.3516   ,  0.36723  ,\n",
       "        0.25884  , -0.19463  , -0.27582  , -0.70492  , -0.69454  ,\n",
       "        0.70624  ,  0.2283   ,  0.081052 ,  0.1351   ,  0.14388  ],\n",
       "      dtype=float32)"
      ]
     },
     "execution_count": 7,
     "metadata": {},
     "output_type": "execute_result"
    }
   ],
   "source": [
    "model['india']"
   ]
  },
  {
   "cell_type": "code",
   "execution_count": 9,
   "id": "00e681d8",
   "metadata": {},
   "outputs": [
    {
     "data": {
      "text/plain": [
       "[('prince', 0.7682329416275024),\n",
       " ('queen', 0.7507689595222473),\n",
       " ('son', 0.7020888328552246),\n",
       " ('brother', 0.6985775828361511),\n",
       " ('monarch', 0.6977890729904175),\n",
       " ('throne', 0.691999077796936),\n",
       " ('kingdom', 0.6811409592628479),\n",
       " ('father', 0.680202841758728),\n",
       " ('emperor', 0.67128586769104),\n",
       " ('ii', 0.6676074266433716)]"
      ]
     },
     "execution_count": 9,
     "metadata": {},
     "output_type": "execute_result"
    }
   ],
   "source": [
    "model.most_similar('king')"
   ]
  },
  {
   "cell_type": "code",
   "execution_count": 10,
   "id": "5b4736a1",
   "metadata": {},
   "outputs": [
    {
     "data": {
      "text/plain": [
       "[('israel', 0.6973910331726074),\n",
       " ('plo', 0.6933583617210388),\n",
       " ('arab', 0.6852166652679443),\n",
       " ('jerusalem', 0.6812675595283508),\n",
       " ('lebanon', 0.6729379892349243),\n",
       " ('liberation', 0.6673559546470642),\n",
       " ('palestinian', 0.6671944856643677),\n",
       " ('territories', 0.6560360789299011),\n",
       " ('syria', 0.6443147659301758),\n",
       " ('gaza', 0.630266010761261)]"
      ]
     },
     "execution_count": 10,
     "metadata": {},
     "output_type": "execute_result"
    }
   ],
   "source": [
    "model.most_similar('palestine')"
   ]
  },
  {
   "cell_type": "code",
   "execution_count": 11,
   "id": "1dca716c",
   "metadata": {},
   "outputs": [
    {
     "data": {
      "text/plain": [
       "[('magidson', 0.526917576789856),\n",
       " ('joshu', 0.4987868070602417),\n",
       " ('lúcio', 0.4949033260345459),\n",
       " ('wilier', 0.4937509298324585),\n",
       " ('spamassassin', 0.49211543798446655),\n",
       " ('herrara', 0.4904775023460388),\n",
       " ('reamon', 0.48679929971694946),\n",
       " ('bitlocker', 0.4837264120578766),\n",
       " ('koehne', 0.4823564887046814),\n",
       " ('montecchia', 0.4821655750274658)]"
      ]
     },
     "execution_count": 11,
     "metadata": {},
     "output_type": "execute_result"
    }
   ],
   "source": [
    "model.most_similar(negative = 'palestine')"
   ]
  },
  {
   "cell_type": "code",
   "execution_count": 12,
   "id": "bb8cecbe",
   "metadata": {},
   "outputs": [],
   "source": [
    "result = model.most_similar(positive = ['woman', 'king'], negative = ['man'])"
   ]
  },
  {
   "cell_type": "code",
   "execution_count": 13,
   "id": "282231b8",
   "metadata": {},
   "outputs": [
    {
     "data": {
      "text/plain": [
       "[('queen', 0.7698541283607483),\n",
       " ('monarch', 0.6843380928039551),\n",
       " ('throne', 0.6755736470222473),\n",
       " ('daughter', 0.6594555974006653),\n",
       " ('princess', 0.6520534157752991),\n",
       " ('prince', 0.651703417301178),\n",
       " ('elizabeth', 0.6464518308639526),\n",
       " ('mother', 0.631171703338623),\n",
       " ('emperor', 0.6106470823287964),\n",
       " ('wife', 0.6098655462265015)]"
      ]
     },
     "execution_count": 13,
     "metadata": {},
     "output_type": "execute_result"
    }
   ],
   "source": [
    "result"
   ]
  },
  {
   "cell_type": "code",
   "execution_count": 14,
   "id": "82123ae3",
   "metadata": {},
   "outputs": [],
   "source": [
    "def analogy(x1, x2, y1):\n",
    "    result = model.most_similar(positive = [y1, x2], negative = [x1])\n",
    "    return result[0][0];"
   ]
  },
  {
   "cell_type": "code",
   "execution_count": 15,
   "id": "eedc9adf",
   "metadata": {},
   "outputs": [
    {
     "data": {
      "text/plain": [
       "'queen'"
      ]
     },
     "execution_count": 15,
     "metadata": {},
     "output_type": "execute_result"
    }
   ],
   "source": [
    "analogy('man', 'king', 'woman')"
   ]
  },
  {
   "cell_type": "code",
   "execution_count": 25,
   "id": "511cb27a",
   "metadata": {},
   "outputs": [
    {
     "data": {
      "text/plain": [
       "'kalam'"
      ]
     },
     "execution_count": 25,
     "metadata": {},
     "output_type": "execute_result"
    }
   ],
   "source": [
    "analogy('nehru', 'gandhi', 'azad')"
   ]
  },
  {
   "cell_type": "code",
   "execution_count": null,
   "id": "c1f06ba0",
   "metadata": {},
   "outputs": [],
   "source": []
  }
 ],
 "metadata": {
  "kernelspec": {
   "display_name": "Python 3 (ipykernel)",
   "language": "python",
   "name": "python3"
  },
  "language_info": {
   "codemirror_mode": {
    "name": "ipython",
    "version": 3
   },
   "file_extension": ".py",
   "mimetype": "text/x-python",
   "name": "python",
   "nbconvert_exporter": "python",
   "pygments_lexer": "ipython3",
   "version": "3.9.13"
  }
 },
 "nbformat": 4,
 "nbformat_minor": 5
}
